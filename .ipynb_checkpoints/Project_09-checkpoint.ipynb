{
 "cells": [
  {
   "cell_type": "code",
   "execution_count": 1,
   "metadata": {},
   "outputs": [],
   "source": [
    "import requests"
   ]
  },
  {
   "cell_type": "code",
   "execution_count": 130,
   "metadata": {},
   "outputs": [],
   "source": [
    "import pandas as pd\n",
    "pd.set_option('display.max_colwidth', 1990) "
   ]
  },
  {
   "cell_type": "code",
   "execution_count": 3,
   "metadata": {},
   "outputs": [],
   "source": [
    "from bs4 import BeautifulSoup"
   ]
  },
  {
   "cell_type": "code",
   "execution_count": 51,
   "metadata": {},
   "outputs": [],
   "source": [
    "#ASSIGN variable url as our Wikipedia link\n",
    "url = \"https://ru.wikipedia.org/wiki/%D0%9A%D0%B0%D1%82%D0%B5%D0%B3%D0%BE%D1%80%D0%B8%D1%8F:%D0%A3%D0%BC%D0%B5%D1%80%D1%88%D0%B8%D0%B5_%D0%BE%D1%82_COVID-19_%D0%B2_%D0%A0%D0%BE%D1%81%D1%81%D0%B8%D0%B8\""
   ]
  },
  {
   "cell_type": "code",
   "execution_count": 52,
   "metadata": {},
   "outputs": [],
   "source": [
    "#READ the url\n",
    "response = requests.get(url)"
   ]
  },
  {
   "cell_type": "code",
   "execution_count": 53,
   "metadata": {},
   "outputs": [],
   "source": [
    "#GET the content with BS\n",
    "soup = BeautifulSoup(response.text, \"html.parser\")"
   ]
  },
  {
   "cell_type": "code",
   "execution_count": 55,
   "metadata": {},
   "outputs": [],
   "source": [
    "#FIND persons as a list on a page\n",
    "persons = soup.select('a', class_=\"mw-content-ltr\", id='bodyContent')[34:234]"
   ]
  },
  {
   "cell_type": "code",
   "execution_count": 56,
   "metadata": {},
   "outputs": [],
   "source": [
    "#GET links for each person\n",
    "links =[]\n",
    "for person in persons:\n",
    "    links.append(person.get('href'))"
   ]
  },
  {
   "cell_type": "code",
   "execution_count": 57,
   "metadata": {},
   "outputs": [],
   "source": [
    "#ADD beginning of the url to get the urls\n",
    "urls = []\n",
    "for link in links:\n",
    "    urls.append(\"https://ru.wikipedia.org\"+link)"
   ]
  },
  {
   "cell_type": "code",
   "execution_count": 58,
   "metadata": {},
   "outputs": [],
   "source": [
    "#GET names of each person\n",
    "names = []\n",
    "for person in persons:\n",
    "    names.append(person.get('title'))"
   ]
  },
  {
   "cell_type": "code",
   "execution_count": 59,
   "metadata": {},
   "outputs": [],
   "source": [
    "#CREATE a dataframe with urls as columns\n",
    "df = pd.DataFrame(urls, columns = ['urls'])"
   ]
  },
  {
   "cell_type": "code",
   "execution_count": 60,
   "metadata": {},
   "outputs": [
    {
     "data": {
      "text/plain": [
       "(200, 2)"
      ]
     },
     "execution_count": 60,
     "metadata": {},
     "output_type": "execute_result"
    }
   ],
   "source": [
    "#ADD column with names \n",
    "df['names']= names\n",
    "df.shape"
   ]
  },
  {
   "cell_type": "code",
   "execution_count": 61,
   "metadata": {},
   "outputs": [],
   "source": [
    "#GET the content from the second Wikipedia page\n",
    "url1 = \"https://ru.wikipedia.org/w/index.php?title=%D0%9A%D0%B0%D1%82%D0%B5%D0%B3%D0%BE%D1%80%D0%B8%D1%8F:%D0%A3%D0%BC%D0%B5%D1%80%D1%88%D0%B8%D0%B5_%D0%BE%D1%82_COVID-19_%D0%B2_%D0%A0%D0%BE%D1%81%D1%81%D0%B8%D0%B8&pagefrom=%D0%A8%D1%83%D0%B2%D0%B0%D0%BB%D0%BE%D0%B2%2C+%D0%92%D0%B8%D0%BA%D1%82%D0%BE%D1%80+%D0%93%D1%80%D0%B8%D0%B3%D0%BE%D1%80%D1%8C%D0%B5%D0%B2%D0%B8%D1%87#mw-pages\""
   ]
  },
  {
   "cell_type": "code",
   "execution_count": 62,
   "metadata": {},
   "outputs": [],
   "source": [
    "#READ the url\n",
    "response = requests.get(url1)"
   ]
  },
  {
   "cell_type": "code",
   "execution_count": 63,
   "metadata": {},
   "outputs": [],
   "source": [
    "#GET the content with BS\n",
    "soup = BeautifulSoup(response.text, \"html.parser\")"
   ]
  },
  {
   "cell_type": "code",
   "execution_count": 67,
   "metadata": {},
   "outputs": [],
   "source": [
    "#FIND persons as a list on a page\n",
    "persons = soup.select('a', class_=\"mw-content-ltr\", id='bodyContent')[34:42]"
   ]
  },
  {
   "cell_type": "code",
   "execution_count": 68,
   "metadata": {},
   "outputs": [],
   "source": [
    "#GET links for each person\n",
    "links =[]\n",
    "for person in persons:\n",
    "    links.append(person.get('href'))"
   ]
  },
  {
   "cell_type": "code",
   "execution_count": 69,
   "metadata": {},
   "outputs": [],
   "source": [
    "#ADD beginning of the url to get the urls\n",
    "urls = []\n",
    "for link in links:\n",
    "    urls.append(\"https://ru.wikipedia.org\"+link)"
   ]
  },
  {
   "cell_type": "code",
   "execution_count": 70,
   "metadata": {},
   "outputs": [],
   "source": [
    "#GET names of each person\n",
    "names = []\n",
    "for person in persons:\n",
    "    names.append(person.get('title'))"
   ]
  },
  {
   "cell_type": "code",
   "execution_count": 71,
   "metadata": {},
   "outputs": [],
   "source": [
    "#CREATE a dataframe with urls as columns\n",
    "df1 = pd.DataFrame(urls, columns = ['urls'])"
   ]
  },
  {
   "cell_type": "code",
   "execution_count": 72,
   "metadata": {},
   "outputs": [
    {
     "data": {
      "text/plain": [
       "(8, 2)"
      ]
     },
     "execution_count": 72,
     "metadata": {},
     "output_type": "execute_result"
    }
   ],
   "source": [
    "#ADD column with names \n",
    "df1['names']= names\n",
    "df1.shape"
   ]
  },
  {
   "cell_type": "code",
   "execution_count": 74,
   "metadata": {},
   "outputs": [
    {
     "data": {
      "text/html": [
       "<div>\n",
       "<style scoped>\n",
       "    .dataframe tbody tr th:only-of-type {\n",
       "        vertical-align: middle;\n",
       "    }\n",
       "\n",
       "    .dataframe tbody tr th {\n",
       "        vertical-align: top;\n",
       "    }\n",
       "\n",
       "    .dataframe thead th {\n",
       "        text-align: right;\n",
       "    }\n",
       "</style>\n",
       "<table border=\"1\" class=\"dataframe\">\n",
       "  <thead>\n",
       "    <tr style=\"text-align: right;\">\n",
       "      <th></th>\n",
       "      <th>urls</th>\n",
       "      <th>names</th>\n",
       "    </tr>\n",
       "  </thead>\n",
       "  <tbody>\n",
       "    <tr>\n",
       "      <th>0</th>\n",
       "      <td>https://ru.wikipedia.org/wiki/%D0%90%D0%B1%D0%B0%D1%80%D0%B5%D0%BD%D0%BE%D0%B2,_%D0%90%D0%BD%D0%B0%D1%82%D0%BE%D0%BB%D0%B8%D0%B9_%D0%90%D0%BD%D0%B0%D1%82%D0%BE%D0%BB%D1%8C%D0%B5%D0%B2%D0%B8%D1%87</td>\n",
       "      <td>Абаренов, Анатолий Анатольевич</td>\n",
       "    </tr>\n",
       "    <tr>\n",
       "      <th>1</th>\n",
       "      <td>https://ru.wikipedia.org/wiki/%D0%90%D0%B2%D0%B4%D0%B5%D0%B5%D0%B2,_%D0%92%D0%BB%D0%B0%D0%B4%D0%B8%D0%BC%D0%B8%D1%80_%D0%91%D0%BE%D1%80%D0%B8%D1%81%D0%BE%D0%B2%D0%B8%D1%87</td>\n",
       "      <td>Авдеев, Владимир Борисович</td>\n",
       "    </tr>\n",
       "    <tr>\n",
       "      <th>2</th>\n",
       "      <td>https://ru.wikipedia.org/wiki/%D0%90%D0%B3%D0%B0%D0%B5%D0%B2,_%D0%92%D0%B0%D1%85%D0%B0_%D0%90%D0%B1%D1%83%D0%B5%D0%B2%D0%B8%D1%87</td>\n",
       "      <td>Агаев, Ваха Абуевич</td>\n",
       "    </tr>\n",
       "    <tr>\n",
       "      <th>3</th>\n",
       "      <td>https://ru.wikipedia.org/wiki/%D0%90%D0%BA%D0%BA%D1%83%D1%87%D1%83%D0%BA%D0%BE%D0%B2%D0%B0,_%D0%A0%D0%BE%D0%B7%D0%B0_%D0%A1%D0%B0%D0%B1%D0%B8%D1%80%D1%8C%D1%8F%D0%BD%D0%BE%D0%B2%D0%BD%D0%B0</td>\n",
       "      <td>Аккучукова, Роза Сабирьяновна</td>\n",
       "    </tr>\n",
       "    <tr>\n",
       "      <th>4</th>\n",
       "      <td>https://ru.wikipedia.org/wiki/%D0%90%D0%BA%D1%81%D1%91%D0%BD%D0%BE%D0%B2,_%D0%92%D0%B8%D1%82%D0%B0%D0%BB%D0%B8%D0%B9_%D0%95%D0%B2%D0%B3%D0%B5%D0%BD%D1%8C%D0%B5%D0%B2%D0%B8%D1%87</td>\n",
       "      <td>Аксёнов, Виталий Евгеньевич</td>\n",
       "    </tr>\n",
       "    <tr>\n",
       "      <th>...</th>\n",
       "      <td>...</td>\n",
       "      <td>...</td>\n",
       "    </tr>\n",
       "    <tr>\n",
       "      <th>3</th>\n",
       "      <td>https://ru.wikipedia.org/wiki/%D0%A9%D0%B5%D0%B3%D0%BB%D0%BE%D0%B2,_%D0%9B%D0%B5%D0%B2_%D0%9C%D0%BE%D0%B8%D1%81%D0%B5%D0%B5%D0%B2%D0%B8%D1%87</td>\n",
       "      <td>Щеглов, Лев Моисеевич</td>\n",
       "    </tr>\n",
       "    <tr>\n",
       "      <th>4</th>\n",
       "      <td>https://ru.wikipedia.org/wiki/%D0%A9%D1%91%D0%B3%D0%BE%D0%BB%D0%B5%D0%B2,_%D0%98%D0%B2%D0%B0%D0%BD_%D0%90%D0%BB%D0%B5%D0%BA%D1%81%D0%B0%D0%BD%D0%B4%D1%80%D0%BE%D0%B2%D0%B8%D1%87</td>\n",
       "      <td>Щёголев, Иван Александрович</td>\n",
       "    </tr>\n",
       "    <tr>\n",
       "      <th>5</th>\n",
       "      <td>https://ru.wikipedia.org/wiki/%D0%A9%D1%83%D0%BA%D0%B8%D0%BD,_%D0%90%D0%BB%D0%B5%D0%BA%D1%81%D0%B0%D0%BD%D0%B4%D1%80_%D0%A4%D0%B8%D0%BB%D0%B8%D0%BF%D0%BF%D0%BE%D0%B2%D0%B8%D1%87</td>\n",
       "      <td>Щукин, Александр Филиппович</td>\n",
       "    </tr>\n",
       "    <tr>\n",
       "      <th>6</th>\n",
       "      <td>https://ru.wikipedia.org/wiki/%D0%AD%D0%BF%D0%B5%D0%BB%D1%8C%D0%B1%D0%B0%D1%83%D0%BC,_%D0%98%D0%BB%D1%8C%D1%8F_%D0%9C%D0%B0%D1%80%D0%BE%D0%B2%D0%B8%D1%87</td>\n",
       "      <td>Эпельбаум, Илья Марович</td>\n",
       "    </tr>\n",
       "    <tr>\n",
       "      <th>7</th>\n",
       "      <td>https://ru.wikipedia.org/wiki/%D0%AE%D1%80%D1%8C%D0%B5%D0%B2,_%D0%90%D0%BB%D0%B5%D0%BA%D1%81%D0%B0%D0%BD%D0%B4%D1%80_%D0%98%D0%B2%D0%B0%D0%BD%D0%BE%D0%B2%D0%B8%D1%87</td>\n",
       "      <td>Юрьев, Александр Иванович</td>\n",
       "    </tr>\n",
       "  </tbody>\n",
       "</table>\n",
       "<p>208 rows × 2 columns</p>\n",
       "</div>"
      ],
      "text/plain": [
       "                                                                                                                                                                                                   urls  \\\n",
       "0   https://ru.wikipedia.org/wiki/%D0%90%D0%B1%D0%B0%D1%80%D0%B5%D0%BD%D0%BE%D0%B2,_%D0%90%D0%BD%D0%B0%D1%82%D0%BE%D0%BB%D0%B8%D0%B9_%D0%90%D0%BD%D0%B0%D1%82%D0%BE%D0%BB%D1%8C%D0%B5%D0%B2%D0%B8%D1%87   \n",
       "1                           https://ru.wikipedia.org/wiki/%D0%90%D0%B2%D0%B4%D0%B5%D0%B5%D0%B2,_%D0%92%D0%BB%D0%B0%D0%B4%D0%B8%D0%BC%D0%B8%D1%80_%D0%91%D0%BE%D1%80%D0%B8%D1%81%D0%BE%D0%B2%D0%B8%D1%87   \n",
       "2                                                                     https://ru.wikipedia.org/wiki/%D0%90%D0%B3%D0%B0%D0%B5%D0%B2,_%D0%92%D0%B0%D1%85%D0%B0_%D0%90%D0%B1%D1%83%D0%B5%D0%B2%D0%B8%D1%87   \n",
       "3         https://ru.wikipedia.org/wiki/%D0%90%D0%BA%D0%BA%D1%83%D1%87%D1%83%D0%BA%D0%BE%D0%B2%D0%B0,_%D0%A0%D0%BE%D0%B7%D0%B0_%D0%A1%D0%B0%D0%B1%D0%B8%D1%80%D1%8C%D1%8F%D0%BD%D0%BE%D0%B2%D0%BD%D0%B0   \n",
       "4                     https://ru.wikipedia.org/wiki/%D0%90%D0%BA%D1%81%D1%91%D0%BD%D0%BE%D0%B2,_%D0%92%D0%B8%D1%82%D0%B0%D0%BB%D0%B8%D0%B9_%D0%95%D0%B2%D0%B3%D0%B5%D0%BD%D1%8C%D0%B5%D0%B2%D0%B8%D1%87   \n",
       "..                                                                                                                                                                                                  ...   \n",
       "3                                                         https://ru.wikipedia.org/wiki/%D0%A9%D0%B5%D0%B3%D0%BB%D0%BE%D0%B2,_%D0%9B%D0%B5%D0%B2_%D0%9C%D0%BE%D0%B8%D1%81%D0%B5%D0%B5%D0%B2%D0%B8%D1%87   \n",
       "4                     https://ru.wikipedia.org/wiki/%D0%A9%D1%91%D0%B3%D0%BE%D0%BB%D0%B5%D0%B2,_%D0%98%D0%B2%D0%B0%D0%BD_%D0%90%D0%BB%D0%B5%D0%BA%D1%81%D0%B0%D0%BD%D0%B4%D1%80%D0%BE%D0%B2%D0%B8%D1%87   \n",
       "5                     https://ru.wikipedia.org/wiki/%D0%A9%D1%83%D0%BA%D0%B8%D0%BD,_%D0%90%D0%BB%D0%B5%D0%BA%D1%81%D0%B0%D0%BD%D0%B4%D1%80_%D0%A4%D0%B8%D0%BB%D0%B8%D0%BF%D0%BF%D0%BE%D0%B2%D0%B8%D1%87   \n",
       "6                                             https://ru.wikipedia.org/wiki/%D0%AD%D0%BF%D0%B5%D0%BB%D1%8C%D0%B1%D0%B0%D1%83%D0%BC,_%D0%98%D0%BB%D1%8C%D1%8F_%D0%9C%D0%B0%D1%80%D0%BE%D0%B2%D0%B8%D1%87   \n",
       "7                                 https://ru.wikipedia.org/wiki/%D0%AE%D1%80%D1%8C%D0%B5%D0%B2,_%D0%90%D0%BB%D0%B5%D0%BA%D1%81%D0%B0%D0%BD%D0%B4%D1%80_%D0%98%D0%B2%D0%B0%D0%BD%D0%BE%D0%B2%D0%B8%D1%87   \n",
       "\n",
       "                             names  \n",
       "0   Абаренов, Анатолий Анатольевич  \n",
       "1       Авдеев, Владимир Борисович  \n",
       "2              Агаев, Ваха Абуевич  \n",
       "3    Аккучукова, Роза Сабирьяновна  \n",
       "4      Аксёнов, Виталий Евгеньевич  \n",
       "..                             ...  \n",
       "3            Щеглов, Лев Моисеевич  \n",
       "4      Щёголев, Иван Александрович  \n",
       "5      Щукин, Александр Филиппович  \n",
       "6          Эпельбаум, Илья Марович  \n",
       "7        Юрьев, Александр Иванович  \n",
       "\n",
       "[208 rows x 2 columns]"
      ]
     },
     "execution_count": 74,
     "metadata": {},
     "output_type": "execute_result"
    }
   ],
   "source": [
    "frames = [df, df1]\n",
    "  \n",
    "df = pd.concat(frames)\n",
    "df"
   ]
  },
  {
   "cell_type": "code",
   "execution_count": 75,
   "metadata": {},
   "outputs": [],
   "source": [
    "df['contents'] = df.urls.apply(lambda url: requests.get(url).text)"
   ]
  },
  {
   "cell_type": "code",
   "execution_count": 79,
   "metadata": {},
   "outputs": [],
   "source": [
    "def get_bio(content):\n",
    "    soup = BeautifulSoup(content)\n",
    "    bio = soup.select_one('p', id=\"Биография\")\n",
    "    return bio.text.strip()"
   ]
  },
  {
   "cell_type": "code",
   "execution_count": 80,
   "metadata": {},
   "outputs": [],
   "source": [
    "df['bio']=df.contents.apply(get_bio)"
   ]
  },
  {
   "cell_type": "code",
   "execution_count": 87,
   "metadata": {},
   "outputs": [
    {
     "data": {
      "text/html": [
       "<div>\n",
       "<style scoped>\n",
       "    .dataframe tbody tr th:only-of-type {\n",
       "        vertical-align: middle;\n",
       "    }\n",
       "\n",
       "    .dataframe tbody tr th {\n",
       "        vertical-align: top;\n",
       "    }\n",
       "\n",
       "    .dataframe thead th {\n",
       "        text-align: right;\n",
       "    }\n",
       "</style>\n",
       "<table border=\"1\" class=\"dataframe\">\n",
       "  <thead>\n",
       "    <tr style=\"text-align: right;\">\n",
       "      <th></th>\n",
       "      <th>urls</th>\n",
       "      <th>names</th>\n",
       "      <th>contents</th>\n",
       "      <th>bio</th>\n",
       "    </tr>\n",
       "  </thead>\n",
       "  <tbody>\n",
       "    <tr>\n",
       "      <th>6</th>\n",
       "      <td>https://ru.wikipedia.org/wiki/%D0%AD%D0%BF%D0%B5%D0%BB%D1%8C%D0%B1%D0%B0%D1%83%D0%BC,_%D0%98%D0%BB%D1%8C%D1%8F_%D0%9C%D0%B0%D1%80%D0%BE%D0%B2%D0%B8%D1%87</td>\n",
       "      <td>Эпельбаум, Илья Марович</td>\n",
       "      <td>&lt;!DOCTYPE html&gt;\\n&lt;html class=\"client-nojs\" lang=\"ru\" dir=\"ltr\"&gt;\\n&lt;head&gt;\\n&lt;meta charset=\"UTF-8\"/&gt;\\n&lt;title&gt;Эпельбаум, Илья Марович — Википедия&lt;/title&gt;\\n&lt;script&gt;document.documentElement.className=\"c...</td>\n",
       "      <td>Илья Ма́рович Эпельба́ум (21 июля 1961 — 18 октября 2020, Москва) — российский режиссёр и сценарист, создатель московского театра кукол «Тень», инициатор проекта «Лиликанский театр». Супруг актри...</td>\n",
       "    </tr>\n",
       "    <tr>\n",
       "      <th>7</th>\n",
       "      <td>https://ru.wikipedia.org/wiki/%D0%AE%D1%80%D1%8C%D0%B5%D0%B2,_%D0%90%D0%BB%D0%B5%D0%BA%D1%81%D0%B0%D0%BD%D0%B4%D1%80_%D0%98%D0%B2%D0%B0%D0%BD%D0%BE%D0%B2%D0%B8%D1%87</td>\n",
       "      <td>Юрьев, Александр Иванович</td>\n",
       "      <td>&lt;!DOCTYPE html&gt;\\n&lt;html class=\"client-nojs\" lang=\"ru\" dir=\"ltr\"&gt;\\n&lt;head&gt;\\n&lt;meta charset=\"UTF-8\"/&gt;\\n&lt;title&gt;Юрьев, Александр Иванович — Википедия&lt;/title&gt;\\n&lt;script&gt;document.documentElement.className=...</td>\n",
       "      <td>Алекса́ндр Ива́нович Ю́рьев (6 октября 1942, Ленинград, СССР — 26 ноября 2020, Санкт-Петербург, Россия) — советский и российский психолог. Создатель научного направления политическая психология в...</td>\n",
       "    </tr>\n",
       "  </tbody>\n",
       "</table>\n",
       "</div>"
      ],
      "text/plain": [
       "                                                                                                                                                                    urls  \\\n",
       "6              https://ru.wikipedia.org/wiki/%D0%AD%D0%BF%D0%B5%D0%BB%D1%8C%D0%B1%D0%B0%D1%83%D0%BC,_%D0%98%D0%BB%D1%8C%D1%8F_%D0%9C%D0%B0%D1%80%D0%BE%D0%B2%D0%B8%D1%87   \n",
       "7  https://ru.wikipedia.org/wiki/%D0%AE%D1%80%D1%8C%D0%B5%D0%B2,_%D0%90%D0%BB%D0%B5%D0%BA%D1%81%D0%B0%D0%BD%D0%B4%D1%80_%D0%98%D0%B2%D0%B0%D0%BD%D0%BE%D0%B2%D0%B8%D1%87   \n",
       "\n",
       "                       names  \\\n",
       "6    Эпельбаум, Илья Марович   \n",
       "7  Юрьев, Александр Иванович   \n",
       "\n",
       "                                                                                                                                                                                                 contents  \\\n",
       "6  <!DOCTYPE html>\\n<html class=\"client-nojs\" lang=\"ru\" dir=\"ltr\">\\n<head>\\n<meta charset=\"UTF-8\"/>\\n<title>Эпельбаум, Илья Марович — Википедия</title>\\n<script>document.documentElement.className=\"c...   \n",
       "7  <!DOCTYPE html>\\n<html class=\"client-nojs\" lang=\"ru\" dir=\"ltr\">\\n<head>\\n<meta charset=\"UTF-8\"/>\\n<title>Юрьев, Александр Иванович — Википедия</title>\\n<script>document.documentElement.className=...   \n",
       "\n",
       "                                                                                                                                                                                                      bio  \n",
       "6  Илья Ма́рович Эпельба́ум (21 июля 1961 — 18 октября 2020, Москва) — российский режиссёр и сценарист, создатель московского театра кукол «Тень», инициатор проекта «Лиликанский театр». Супруг актри...  \n",
       "7  Алекса́ндр Ива́нович Ю́рьев (6 октября 1942, Ленинград, СССР — 26 ноября 2020, Санкт-Петербург, Россия) — советский и российский психолог. Создатель научного направления политическая психология в...  "
      ]
     },
     "execution_count": 87,
     "metadata": {},
     "output_type": "execute_result"
    }
   ],
   "source": [
    "df2=df.tail(2)\n",
    "df2"
   ]
  },
  {
   "cell_type": "code",
   "execution_count": 105,
   "metadata": {},
   "outputs": [
    {
     "data": {
      "text/html": [
       "<div>\n",
       "<style scoped>\n",
       "    .dataframe tbody tr th:only-of-type {\n",
       "        vertical-align: middle;\n",
       "    }\n",
       "\n",
       "    .dataframe tbody tr th {\n",
       "        vertical-align: top;\n",
       "    }\n",
       "\n",
       "    .dataframe thead th {\n",
       "        text-align: right;\n",
       "    }\n",
       "</style>\n",
       "<table border=\"1\" class=\"dataframe\">\n",
       "  <thead>\n",
       "    <tr style=\"text-align: right;\">\n",
       "      <th></th>\n",
       "      <th>Илья Эпельбаум</th>\n",
       "      <th>Илья Эпельбаум.1</th>\n",
       "    </tr>\n",
       "  </thead>\n",
       "  <tbody>\n",
       "    <tr>\n",
       "      <th>0</th>\n",
       "      <td>Дата рождения</td>\n",
       "      <td>21 июля 1961</td>\n",
       "    </tr>\n",
       "    <tr>\n",
       "      <th>1</th>\n",
       "      <td>Дата смерти</td>\n",
       "      <td>18 октября 2020(59 лет)</td>\n",
       "    </tr>\n",
       "    <tr>\n",
       "      <th>2</th>\n",
       "      <td>Место смерти</td>\n",
       "      <td>Москва</td>\n",
       "    </tr>\n",
       "    <tr>\n",
       "      <th>3</th>\n",
       "      <td>Гражданство</td>\n",
       "      <td>Россия</td>\n",
       "    </tr>\n",
       "    <tr>\n",
       "      <th>4</th>\n",
       "      <td>Профессия</td>\n",
       "      <td>театральный режиссёр, режиссёр кукольного театра, сценарист</td>\n",
       "    </tr>\n",
       "  </tbody>\n",
       "</table>\n",
       "</div>"
      ],
      "text/plain": [
       "  Илья Эпельбаум                                             Илья Эпельбаум.1\n",
       "0  Дата рождения                                                 21 июля 1961\n",
       "1    Дата смерти                                      18 октября 2020(59 лет)\n",
       "2   Место смерти                                                       Москва\n",
       "3    Гражданство                                                       Россия\n",
       "4      Профессия  театральный режиссёр, режиссёр кукольного театра, сценарист"
      ]
     },
     "execution_count": 105,
     "metadata": {},
     "output_type": "execute_result"
    }
   ],
   "source": [
    "dfs = pd.read_html(\"https://ru.wikipedia.org/wiki/%D0%AD%D0%BF%D0%B5%D0%BB%D1%8C%D0%B1%D0%B0%D1%83%D0%BC,_%D0%98%D0%BB%D1%8C%D1%8F_%D0%9C%D0%B0%D1%80%D0%BE%D0%B2%D0%B8%D1%87\")\n",
    "dfs[0]"
   ]
  },
  {
   "cell_type": "code",
   "execution_count": 106,
   "metadata": {
    "scrolled": true
   },
   "outputs": [
    {
     "data": {
      "text/html": [
       "<div>\n",
       "<style scoped>\n",
       "    .dataframe tbody tr th:only-of-type {\n",
       "        vertical-align: middle;\n",
       "    }\n",
       "\n",
       "    .dataframe tbody tr th {\n",
       "        vertical-align: top;\n",
       "    }\n",
       "\n",
       "    .dataframe thead th {\n",
       "        text-align: right;\n",
       "    }\n",
       "</style>\n",
       "<table border=\"1\" class=\"dataframe\">\n",
       "  <thead>\n",
       "    <tr style=\"text-align: right;\">\n",
       "      <th></th>\n",
       "      <th>Александр Иванович Юрьев</th>\n",
       "      <th>Александр Иванович Юрьев.1</th>\n",
       "    </tr>\n",
       "  </thead>\n",
       "  <tbody>\n",
       "    <tr>\n",
       "      <th>0</th>\n",
       "      <td>NaN</td>\n",
       "      <td>NaN</td>\n",
       "    </tr>\n",
       "    <tr>\n",
       "      <th>1</th>\n",
       "      <td>Дата рождения</td>\n",
       "      <td>6 октября 1942</td>\n",
       "    </tr>\n",
       "    <tr>\n",
       "      <th>2</th>\n",
       "      <td>Место рождения</td>\n",
       "      <td>Ленинград, РСФСР, СССР</td>\n",
       "    </tr>\n",
       "    <tr>\n",
       "      <th>3</th>\n",
       "      <td>Дата смерти</td>\n",
       "      <td>26 ноября 2020 (78 лет)</td>\n",
       "    </tr>\n",
       "    <tr>\n",
       "      <th>4</th>\n",
       "      <td>Место смерти</td>\n",
       "      <td>Санкт-Петербург, Россия</td>\n",
       "    </tr>\n",
       "    <tr>\n",
       "      <th>5</th>\n",
       "      <td>Страна</td>\n",
       "      <td>СССР Россия</td>\n",
       "    </tr>\n",
       "    <tr>\n",
       "      <th>6</th>\n",
       "      <td>Научная сфера</td>\n",
       "      <td>психология, политическая психология</td>\n",
       "    </tr>\n",
       "    <tr>\n",
       "      <th>7</th>\n",
       "      <td>Место работы</td>\n",
       "      <td>СПбГУ</td>\n",
       "    </tr>\n",
       "    <tr>\n",
       "      <th>8</th>\n",
       "      <td>Альма-матер</td>\n",
       "      <td>ЛГУ имени А. А. Жданова</td>\n",
       "    </tr>\n",
       "    <tr>\n",
       "      <th>9</th>\n",
       "      <td>Учёная степень</td>\n",
       "      <td>доктор психологических наук</td>\n",
       "    </tr>\n",
       "    <tr>\n",
       "      <th>10</th>\n",
       "      <td>Учёное звание</td>\n",
       "      <td>профессор</td>\n",
       "    </tr>\n",
       "    <tr>\n",
       "      <th>11</th>\n",
       "      <td>Научный руководитель</td>\n",
       "      <td>Б. Г. Ананьев, В. А. Ганзен</td>\n",
       "    </tr>\n",
       "    <tr>\n",
       "      <th>12</th>\n",
       "      <td>Известен как</td>\n",
       "      <td>создатель научного направления политическая психология в СССР и современной России</td>\n",
       "    </tr>\n",
       "    <tr>\n",
       "      <th>13</th>\n",
       "      <td>Награды и премии</td>\n",
       "      <td>NaN</td>\n",
       "    </tr>\n",
       "    <tr>\n",
       "      <th>14</th>\n",
       "      <td>NaN</td>\n",
       "      <td>NaN</td>\n",
       "    </tr>\n",
       "    <tr>\n",
       "      <th>15</th>\n",
       "      <td>NaN</td>\n",
       "      <td>NaN</td>\n",
       "    </tr>\n",
       "    <tr>\n",
       "      <th>16</th>\n",
       "      <td>Сайт</td>\n",
       "      <td>yuriev.spb.ru</td>\n",
       "    </tr>\n",
       "  </tbody>\n",
       "</table>\n",
       "</div>"
      ],
      "text/plain": [
       "   Александр Иванович Юрьев  \\\n",
       "0                       NaN   \n",
       "1             Дата рождения   \n",
       "2            Место рождения   \n",
       "3               Дата смерти   \n",
       "4              Место смерти   \n",
       "5                    Страна   \n",
       "6             Научная сфера   \n",
       "7              Место работы   \n",
       "8               Альма-матер   \n",
       "9            Учёная степень   \n",
       "10            Учёное звание   \n",
       "11     Научный руководитель   \n",
       "12             Известен как   \n",
       "13         Награды и премии   \n",
       "14                      NaN   \n",
       "15                      NaN   \n",
       "16                     Сайт   \n",
       "\n",
       "                                                            Александр Иванович Юрьев.1  \n",
       "0                                                                                  NaN  \n",
       "1                                                                       6 октября 1942  \n",
       "2                                                               Ленинград, РСФСР, СССР  \n",
       "3                                                              26 ноября 2020 (78 лет)  \n",
       "4                                                              Санкт-Петербург, Россия  \n",
       "5                                                                          СССР Россия  \n",
       "6                                                  психология, политическая психология  \n",
       "7                                                                                СПбГУ  \n",
       "8                                                              ЛГУ имени А. А. Жданова  \n",
       "9                                                          доктор психологических наук  \n",
       "10                                                                           профессор  \n",
       "11                                                         Б. Г. Ананьев, В. А. Ганзен  \n",
       "12  создатель научного направления политическая психология в СССР и современной России  \n",
       "13                                                                                 NaN  \n",
       "14                                                                                 NaN  \n",
       "15                                                                                 NaN  \n",
       "16                                                                       yuriev.spb.ru  "
      ]
     },
     "execution_count": 106,
     "metadata": {},
     "output_type": "execute_result"
    }
   ],
   "source": [
    "dft = pd.read_html(\"https://ru.wikipedia.org/wiki/%D0%AE%D1%80%D1%8C%D0%B5%D0%B2,_%D0%90%D0%BB%D0%B5%D0%BA%D1%81%D0%B0%D0%BD%D0%B4%D1%80_%D0%98%D0%B2%D0%B0%D0%BD%D0%BE%D0%B2%D0%B8%D1%87\")\n",
    "dft[0]"
   ]
  },
  {
   "cell_type": "code",
   "execution_count": 150,
   "metadata": {},
   "outputs": [],
   "source": [
    "#def get_fact(content):\n",
    "#    soup = BeautifulSoup(content)\n",
    "#    facts = soup.select('p')[3]\n",
    "#    for fact in facts:\n",
    "#        return fact"
   ]
  },
  {
   "cell_type": "code",
   "execution_count": 16,
   "metadata": {},
   "outputs": [],
   "source": [
    "df.to_csv('bios.csv', index = False)"
   ]
  }
 ],
 "metadata": {
  "kernelspec": {
   "display_name": "Python 3",
   "language": "python",
   "name": "python3"
  },
  "language_info": {
   "codemirror_mode": {
    "name": "ipython",
    "version": 3
   },
   "file_extension": ".py",
   "mimetype": "text/x-python",
   "name": "python",
   "nbconvert_exporter": "python",
   "pygments_lexer": "ipython3",
   "version": "3.8.3"
  }
 },
 "nbformat": 4,
 "nbformat_minor": 4
}
